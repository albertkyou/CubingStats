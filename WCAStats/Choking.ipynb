{
 "nbformat": 4,
 "nbformat_minor": 2,
 "metadata": {
  "language_info": {
   "name": "python",
   "codemirror_mode": {
    "name": "ipython",
    "version": 3
   },
   "version": "3.8.1-final"
  },
  "orig_nbformat": 2,
  "file_extension": ".py",
  "mimetype": "text/x-python",
  "name": "python",
  "npconvert_exporter": "python",
  "pygments_lexer": "ipython3",
  "version": 3,
  "kernelspec": {
   "name": "python38164bitf06d7f02bc4b4630bf74c6adb02dc297",
   "display_name": "Python 3.8.1 64-bit"
  }
 },
 "cells": [
  {
   "cell_type": "code",
   "execution_count": 77,
   "metadata": {},
   "outputs": [
    {
     "output_type": "stream",
     "name": "stdout",
     "text": "['2018LAMD02' '2017EATO03' '2018MONT38' '2011MAUL02' '2011HANG01'\n '2019RAMA10' '2018RIYA01' '2018TAIR02' '2018GRAC01' '2015HEFF01'\n '2017SHUL03' '2019CHEN52' '2019ALCH01' '2016SONU01' '2018CRUS01'\n '2010STEV02' '2019MELN01' '2018LIXI12' '2015GAYL01' '2014ZHAN27'\n '2017KHIZ01' '2011DIRK01' '2019KAMA04' '2016HUAN35' '2017JAIN14'\n '2014HUAN07' '2009WOLF01' '2018PARK09' '2016TAKE02' '2019SHIS07'\n '2016TAIH01' '2018VALE16' '2016YILO02' '2017HERN22' '2019BERE05'\n '2019SENG03' '2014RAKS01' '2018AUBR01' '2015MART40' '2017NANC01'\n '2009KASA01' '2017CATI01' '2018JOHN09' '2016BAYA02' '2018LANZ03'\n '2018HERM07' '2018CATU01' '2017RENS02' '2010KEHR01' '2009ADLA01'\n '2018HUNG06' '2016SARM07' '2015ZHUW02' '2015KALR01' '2017PALE01'\n '2016JAYV01' '2017FATH02' '2009SMIT01' '2018MIKL02' '2017VERA03'\n '2008CHEN06' '2019MUNO03' '2017WANK05' '2018YANG76' '2010BENI02'\n '2017NAMH03' '2016LAHT01' '2019MEND01' '2016WANB02' '2018BOGN01'\n '2016MEND07' '2015WUMI01' '2016BOCK01' '2015SIAM01' '2018CHEN84'\n '2008BELL02' '2018LUDE01' '2016CHAN26' '2019GUOM02' '2014SHAS02'\n '2012TORR07' '2016DERM01' '2018GLAD05' '2013WIND01' '2016JIME02'\n '2019RUBE01' '2018HOAN05' '2014REID01' '2017PRAA01' '2017WOOD01'\n '2016LIUJ10' '2017RAMI08' '2016MAIL01' '2017MIKH01' '2017ADIT02'\n '2017GARC55' '2015WANG28' '2019NGUY04' '2016DENE01' '2016MACH01']\n"
    }
   ],
   "source": [
    "import numpy as np \n",
    "import matplotlib.pyplot as plt \n",
    "import scipy.stats as stats \n",
    "import pandas as pd \n",
    "\n",
    "rankings = pd.read_csv('WCA_export_RanksAverage.tsv', '\\t')\n",
    "rankings.eventId = rankings.eventId.astype(str)\n",
    "threespeedrankings = rankings.loc[rankings['eventId']=='333']\n",
    "\n",
    "# get the personIds for the top 10 cubers in the world\n",
    "bestcubers = threespeedrankings['personId'][7400:7500].to_numpy()\n",
    "\n",
    "print(bestcubers) # (numpy) list of best cuber IDs\n",
    "\n",
    "# load complete 3x3 averages \n",
    "\n",
    "df = pd.read_csv('WCA_export_Results.tsv','\\t')\n",
    "threespeed = df.loc[df.eventId=='333']\n",
    "toptimes = []\n",
    "\n",
    "for cuber in bestcubers:\n",
    "    temp = threespeed.loc[threespeed.personId==cuber]\n",
    "\n",
    "    temp_times = []\n",
    "    for round in range(temp.shape[0]):\n",
    "        if np.min(temp.iloc[round,10:15])>0:\n",
    "            temp_times.append(temp.iloc[round,np.r_[5,10:15]].to_numpy()/100)\n",
    "\n",
    "    toptimes.append(temp_times)\n",
    "\n",
    ""
   ]
  },
  {
   "cell_type": "code",
   "execution_count": 86,
   "metadata": {},
   "outputs": [
    {
     "output_type": "execute_result",
     "data": {
      "text/plain": "Text(0.5, 1.0, 'Worst Time')"
     },
     "metadata": {},
     "execution_count": 86
    }
   ],
   "source": [
    "faz = toptimes[10]\n",
    "fazmin=[]\n",
    "fazmax = []\n",
    "for round in range(len(faz)):\n",
    "    faz[round] = faz[round]/faz[round][0]\n",
    "    temp_min = np.where(faz[round]==np.min(faz[round]))\n",
    "    fazmin.append(temp_min[0][0])\n",
    "\n",
    "    temp_max = np.where(faz[round]==np.max(faz[round]))\n",
    "    fazmax.append(temp_max[0][0])\n",
    "faznp = np.array(faz,dtype=float)\n",
    "\n",
    "plt.subplot(121)\n",
    "plt.hist(fazmin)\n",
    "plt.title('Best Time')\n",
    "plt.subplot(122)\n",
    "plt.hist(fazmax)\n",
    "plt.title('Worst Time')"
   ]
  },
  {
   "cell_type": "code",
   "execution_count": null,
   "metadata": {},
   "outputs": [],
   "source": []
  }
 ]
}