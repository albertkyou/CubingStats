{
 "nbformat": 4,
 "nbformat_minor": 2,
 "metadata": {
  "language_info": {
   "name": "python",
   "codemirror_mode": {
    "name": "ipython",
    "version": 3
   },
   "version": "3.8.1-final"
  },
  "orig_nbformat": 2,
  "file_extension": ".py",
  "mimetype": "text/x-python",
  "name": "python",
  "npconvert_exporter": "python",
  "pygments_lexer": "ipython3",
  "version": 3,
  "kernelspec": {
   "name": "python38164bitf06d7f02bc4b4630bf74c6adb02dc297",
   "display_name": "Python 3.8.1 64-bit"
  }
 },
 "cells": [
  {
   "cell_type": "code",
   "execution_count": 10,
   "metadata": {},
   "outputs": [
    {
     "output_type": "stream",
     "name": "stdout",
     "text": "['2009ZEMD01' '2012PARK03' '2017VILL41' '2010WEYE01' '2016KOLA02'\n '2012PONC02' '2011ETTE01' '2010WANG68' '2010BRAD01' '2015BORR01'\n '2013NAHM01' '2017GARR05' '2015GRIE02' '2010WEYE02' '2007VALK01'\n '2015WANG09' '2015MANS03' '2014XUZI01' '2013GERH01' '2012CARL03'\n '2017KONG05' '2011SBAH01' '2015MILL01' '2013EGDA02' '2013BALI01'\n '2012LEWI01' '2013KYOU01' '2018CHAN50' '2017SIAU02' '2012MAHV01'\n '2010THOM03' '2015PARK13' '2012MCNE01' '2015ROSE01' '2016YENC01'\n '2017KIMM01' '2014RZEW01' '2015DUYU01' '2017EREZ01' '2017WONG01'\n '2012TYCK01' '2016SHEL03' '2017AGGA01' '2015SANC11' '2009YINM01'\n '2017XURU04' '2012BEAH01' '2016INAB01' '2013DENN01' '2009DIEC01'\n '2013BURL01' '2017HUYN05' '2014KARN02' '2017CAIZ03' '2015FUSH01'\n '2016OLZI01' '2009PLES01' '2013JOHN10' '2015LARS04' '2010CANT02'\n '2015PABR01' '2012PATE01' '2016LAUR01' '2014BEGU01' '2017YANG59'\n '2015CHHA03' '2014KIMD06' '2015MOHA10' '2015DELA05' '2014BAND04'\n '2015LEON02' '2014SEBA01' '2017ABAR02' '2011WANN01' '2010WUIF01'\n '2018SANC03' '2011DOBR01' '2010DESJ01' '2015GROH02' '2016SMUL01'\n '2014KIPR01' '2009ALFA01' '2011SANC02' '2008SEAR01' '2014MILL04'\n '2012ELLI01' '2010WANG53' '2016CHAN09' '2012CALL01' '2012COST01'\n '2010SCHM01' '2015CHER07' '2017BASH04' '2016UKAJ01' '2010APAG01'\n '2015NEWH01' '2016WOOD01' '2016SATO01' '2014BAIR01' '2014NORD02']\n"
    }
   ],
   "source": [
    "import numpy as np \n",
    "import matplotlib.pyplot as plt \n",
    "import scipy.stats as stats \n",
    "import pandas as pd \n",
    "\n",
    "rankings = pd.read_csv('WCA_export_RanksAverage.tsv', '\\t')\n",
    "rankings.eventId = rankings.eventId.astype(str)\n",
    "threespeedrankings = rankings.loc[rankings['eventId']=='333']\n",
    "\n",
    "# get the personIds for the top 10 cubers in the world\n",
    "bestcubers = threespeedrankings['personId'][0:100].to_numpy()\n",
    "\n",
    "print(bestcubers) # (numpy) list of best cuber IDs\n",
    "\n",
    "# load complete 3x3 averages \n",
    "\n",
    "df = pd.read_csv('WCA_export_Results.tsv','\\t')\n",
    "threespeed = df.loc[df.eventId=='333']\n",
    "toptimes = []\n",
    "\n",
    "for cuber in bestcubers:\n",
    "    temp = threespeed.loc[threespeed.personId==cuber]\n",
    "\n",
    "    temp_times = []\n",
    "    for round in range(temp.shape[0]):\n",
    "        if np.min(temp.iloc[round,10:15])>0:\n",
    "            temp_times.append([temp.iloc[round,10:15].to_numpy()/100])\n",
    "\n",
    "    toptimes.append(temp_times)\n",
    "\n",
    ""
   ]
  },
  {
   "cell_type": "code",
   "execution_count": 13,
   "metadata": {},
   "outputs": [
    {
     "output_type": "execute_result",
     "data": {
      "text/plain": "[array([10.05, 12.58, 14.84, 13.81, 15.0], dtype=object)]"
     },
     "metadata": {},
     "execution_count": 13
    }
   ],
   "source": [
    "toptimes[0][0]"
   ]
  }
 ]
}