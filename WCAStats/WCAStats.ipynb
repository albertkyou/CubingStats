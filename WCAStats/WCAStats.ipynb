{
 "nbformat": 4,
 "nbformat_minor": 2,
 "metadata": {
  "language_info": {
   "name": "python",
   "codemirror_mode": {
    "name": "ipython",
    "version": 3
   },
   "version": "3.8.1-final"
  },
  "orig_nbformat": 2,
  "file_extension": ".py",
  "mimetype": "text/x-python",
  "name": "python",
  "npconvert_exporter": "python",
  "pygments_lexer": "ipython3",
  "version": 3,
  "kernelspec": {
   "name": "python38164bitf06d7f02bc4b4630bf74c6adb02dc297",
   "display_name": "Python 3.8.1 64-bit"
  }
 },
 "cells": [
  {
   "cell_type": "code",
   "execution_count": 1,
   "metadata": {},
   "outputs": [
    {
     "output_type": "stream",
     "name": "stdout",
     "text": "['2009ZEMD01' '2012PARK03' '2017VILL41' '2010WEYE01' '2016KOLA02'\n '2012PONC02' '2011ETTE01' '2010WANG68' '2010BRAD01' '2015BORR01'\n '2013NAHM01' '2017GARR05' '2015GRIE02' '2010WEYE02' '2007VALK01'\n '2015WANG09' '2015MANS03' '2014XUZI01' '2013GERH01' '2012CARL03'\n '2017KONG05' '2011SBAH01' '2015MILL01' '2013EGDA02' '2013BALI01'\n '2012LEWI01' '2013KYOU01' '2018CHAN50' '2017SIAU02' '2012MAHV01'\n '2010THOM03' '2015PARK13' '2012MCNE01' '2015ROSE01' '2016YENC01'\n '2017KIMM01' '2014RZEW01' '2015DUYU01' '2017EREZ01' '2017WONG01'\n '2012TYCK01' '2016SHEL03' '2017AGGA01' '2015SANC11' '2009YINM01'\n '2017XURU04' '2012BEAH01' '2016INAB01' '2013DENN01' '2009DIEC01'\n '2013BURL01' '2017HUYN05' '2014KARN02' '2017CAIZ03' '2015FUSH01'\n '2016OLZI01' '2009PLES01' '2013JOHN10' '2015LARS04' '2010CANT02'\n '2015PABR01' '2012PATE01' '2016LAUR01' '2014BEGU01' '2017YANG59'\n '2015CHHA03' '2014KIMD06' '2015MOHA10' '2015DELA05' '2014BAND04'\n '2015LEON02' '2014SEBA01' '2017ABAR02' '2011WANN01' '2010WUIF01'\n '2018SANC03' '2011DOBR01' '2010DESJ01' '2015GROH02' '2016SMUL01'\n '2014KIPR01' '2009ALFA01' '2011SANC02' '2008SEAR01' '2014MILL04'\n '2012ELLI01' '2010WANG53' '2016CHAN09' '2012CALL01' '2012COST01'\n '2010SCHM01' '2015CHER07' '2017BASH04' '2016UKAJ01' '2010APAG01'\n '2015NEWH01' '2016WOOD01' '2016SATO01' '2014BAIR01' '2014NORD02']\n"
    },
    {
     "output_type": "error",
     "ename": "ValueError",
     "evalue": "num must be 1 <= num <= 10, not 11",
     "traceback": [
      "\u001b[1;31m---------------------------------------------------------------------------\u001b[0m",
      "\u001b[1;31mValueError\u001b[0m                                Traceback (most recent call last)",
      "\u001b[1;32m<ipython-input-1-8eb54413d65b>\u001b[0m in \u001b[0;36m<module>\u001b[1;34m\u001b[0m\n\u001b[0;32m     36\u001b[0m \u001b[1;33m\u001b[0m\u001b[0m\n\u001b[0;32m     37\u001b[0m \u001b[1;32mfor\u001b[0m \u001b[0mcuber\u001b[0m \u001b[1;32min\u001b[0m \u001b[0mrange\u001b[0m\u001b[1;33m(\u001b[0m\u001b[0mlen\u001b[0m\u001b[1;33m(\u001b[0m\u001b[0mbestcubers\u001b[0m\u001b[1;33m)\u001b[0m\u001b[1;33m)\u001b[0m\u001b[1;33m:\u001b[0m\u001b[1;33m\u001b[0m\u001b[1;33m\u001b[0m\u001b[0m\n\u001b[1;32m---> 38\u001b[1;33m     \u001b[0mplt\u001b[0m\u001b[1;33m.\u001b[0m\u001b[0msubplot\u001b[0m\u001b[1;33m(\u001b[0m\u001b[1;36m2\u001b[0m\u001b[1;33m,\u001b[0m\u001b[1;36m5\u001b[0m\u001b[1;33m,\u001b[0m\u001b[0mcuber\u001b[0m\u001b[1;33m+\u001b[0m\u001b[1;36m1\u001b[0m\u001b[1;33m)\u001b[0m\u001b[1;33m\u001b[0m\u001b[1;33m\u001b[0m\u001b[0m\n\u001b[0m\u001b[0;32m     39\u001b[0m     \u001b[0mplt\u001b[0m\u001b[1;33m.\u001b[0m\u001b[0mscatter\u001b[0m\u001b[1;33m(\u001b[0m\u001b[0mtop10mean\u001b[0m\u001b[1;33m[\u001b[0m\u001b[0mcuber\u001b[0m\u001b[1;33m]\u001b[0m\u001b[1;33m,\u001b[0m\u001b[0mtop10std\u001b[0m\u001b[1;33m[\u001b[0m\u001b[0mcuber\u001b[0m\u001b[1;33m]\u001b[0m\u001b[1;33m)\u001b[0m\u001b[1;33m\u001b[0m\u001b[1;33m\u001b[0m\u001b[0m\n\u001b[0;32m     40\u001b[0m     \u001b[0mplt\u001b[0m\u001b[1;33m.\u001b[0m\u001b[0mxlabel\u001b[0m\u001b[1;33m(\u001b[0m\u001b[1;34m'Average Time (s)'\u001b[0m\u001b[1;33m)\u001b[0m\u001b[1;33m\u001b[0m\u001b[1;33m\u001b[0m\u001b[0m\n",
      "\u001b[1;32m~\\AppData\\Local\\Programs\\Python\\Python38\\lib\\site-packages\\matplotlib\\pyplot.py\u001b[0m in \u001b[0;36msubplot\u001b[1;34m(*args, **kwargs)\u001b[0m\n\u001b[0;32m   1028\u001b[0m \u001b[1;33m\u001b[0m\u001b[0m\n\u001b[0;32m   1029\u001b[0m     \u001b[0mfig\u001b[0m \u001b[1;33m=\u001b[0m \u001b[0mgcf\u001b[0m\u001b[1;33m(\u001b[0m\u001b[1;33m)\u001b[0m\u001b[1;33m\u001b[0m\u001b[1;33m\u001b[0m\u001b[0m\n\u001b[1;32m-> 1030\u001b[1;33m     \u001b[0ma\u001b[0m \u001b[1;33m=\u001b[0m \u001b[0mfig\u001b[0m\u001b[1;33m.\u001b[0m\u001b[0madd_subplot\u001b[0m\u001b[1;33m(\u001b[0m\u001b[1;33m*\u001b[0m\u001b[0margs\u001b[0m\u001b[1;33m,\u001b[0m \u001b[1;33m**\u001b[0m\u001b[0mkwargs\u001b[0m\u001b[1;33m)\u001b[0m\u001b[1;33m\u001b[0m\u001b[1;33m\u001b[0m\u001b[0m\n\u001b[0m\u001b[0;32m   1031\u001b[0m     \u001b[0mbbox\u001b[0m \u001b[1;33m=\u001b[0m \u001b[0ma\u001b[0m\u001b[1;33m.\u001b[0m\u001b[0mbbox\u001b[0m\u001b[1;33m\u001b[0m\u001b[1;33m\u001b[0m\u001b[0m\n\u001b[0;32m   1032\u001b[0m     \u001b[0mbyebye\u001b[0m \u001b[1;33m=\u001b[0m \u001b[1;33m[\u001b[0m\u001b[1;33m]\u001b[0m\u001b[1;33m\u001b[0m\u001b[1;33m\u001b[0m\u001b[0m\n",
      "\u001b[1;32m~\\AppData\\Local\\Programs\\Python\\Python38\\lib\\site-packages\\matplotlib\\figure.py\u001b[0m in \u001b[0;36madd_subplot\u001b[1;34m(self, *args, **kwargs)\u001b[0m\n\u001b[0;32m   1417\u001b[0m                     \u001b[0mself\u001b[0m\u001b[1;33m.\u001b[0m\u001b[0m_axstack\u001b[0m\u001b[1;33m.\u001b[0m\u001b[0mremove\u001b[0m\u001b[1;33m(\u001b[0m\u001b[0max\u001b[0m\u001b[1;33m)\u001b[0m\u001b[1;33m\u001b[0m\u001b[1;33m\u001b[0m\u001b[0m\n\u001b[0;32m   1418\u001b[0m \u001b[1;33m\u001b[0m\u001b[0m\n\u001b[1;32m-> 1419\u001b[1;33m             \u001b[0ma\u001b[0m \u001b[1;33m=\u001b[0m \u001b[0msubplot_class_factory\u001b[0m\u001b[1;33m(\u001b[0m\u001b[0mprojection_class\u001b[0m\u001b[1;33m)\u001b[0m\u001b[1;33m(\u001b[0m\u001b[0mself\u001b[0m\u001b[1;33m,\u001b[0m \u001b[1;33m*\u001b[0m\u001b[0margs\u001b[0m\u001b[1;33m,\u001b[0m \u001b[1;33m**\u001b[0m\u001b[0mkwargs\u001b[0m\u001b[1;33m)\u001b[0m\u001b[1;33m\u001b[0m\u001b[1;33m\u001b[0m\u001b[0m\n\u001b[0m\u001b[0;32m   1420\u001b[0m \u001b[1;33m\u001b[0m\u001b[0m\n\u001b[0;32m   1421\u001b[0m         \u001b[1;32mreturn\u001b[0m \u001b[0mself\u001b[0m\u001b[1;33m.\u001b[0m\u001b[0m_add_axes_internal\u001b[0m\u001b[1;33m(\u001b[0m\u001b[0mkey\u001b[0m\u001b[1;33m,\u001b[0m \u001b[0ma\u001b[0m\u001b[1;33m)\u001b[0m\u001b[1;33m\u001b[0m\u001b[1;33m\u001b[0m\u001b[0m\n",
      "\u001b[1;32m~\\AppData\\Local\\Programs\\Python\\Python38\\lib\\site-packages\\matplotlib\\axes\\_subplots.py\u001b[0m in \u001b[0;36m__init__\u001b[1;34m(self, fig, *args, **kwargs)\u001b[0m\n\u001b[0;32m     63\u001b[0m             \u001b[1;32melse\u001b[0m\u001b[1;33m:\u001b[0m\u001b[1;33m\u001b[0m\u001b[1;33m\u001b[0m\u001b[0m\n\u001b[0;32m     64\u001b[0m                 \u001b[1;32mif\u001b[0m \u001b[0mnum\u001b[0m \u001b[1;33m<\u001b[0m \u001b[1;36m1\u001b[0m \u001b[1;32mor\u001b[0m \u001b[0mnum\u001b[0m \u001b[1;33m>\u001b[0m \u001b[0mrows\u001b[0m\u001b[1;33m*\u001b[0m\u001b[0mcols\u001b[0m\u001b[1;33m:\u001b[0m\u001b[1;33m\u001b[0m\u001b[1;33m\u001b[0m\u001b[0m\n\u001b[1;32m---> 65\u001b[1;33m                     raise ValueError(\n\u001b[0m\u001b[0;32m     66\u001b[0m                         f\"num must be 1 <= num <= {rows*cols}, not {num}\")\n\u001b[0;32m     67\u001b[0m                 self._subplotspec = GridSpec(\n",
      "\u001b[1;31mValueError\u001b[0m: num must be 1 <= num <= 10, not 11"
     ]
    }
   ],
   "source": [
    "import numpy as np \n",
    "import matplotlib.pyplot as plt \n",
    "import scipy.stats as stats \n",
    "import pandas as pd \n",
    "\n",
    "rankings = pd.read_csv('WCA_export_RanksAverage.tsv', '\\t')\n",
    "rankings.eventId = rankings.eventId.astype(str)\n",
    "threespeedrankings = rankings.loc[rankings['eventId']=='333']\n",
    "\n",
    "# get the personIds for the top 10 cubers in the world\n",
    "bestcubers = threespeedrankings['personId'][0:100].to_numpy()\n",
    "\n",
    "print(bestcubers) # (numpy) list of best cuber IDs\n",
    "\n",
    "# load complete 3x3 averages \n",
    "\n",
    "df = pd.read_csv('WCA_export_Results.tsv','\\t')\n",
    "threespeed = df.loc[df.eventId=='333']\n",
    "top10mean = []\n",
    "top10std = []\n",
    "\n",
    "for cuber in bestcubers:\n",
    "    temp = threespeed.loc[threespeed.personId==cuber]\n",
    "\n",
    "    temp_mean = []\n",
    "    temp_std = []\n",
    "    for round in range(temp.shape[0]):\n",
    "        if np.min(temp.iloc[round,10:15])>0:\n",
    "            temp_mean.append(np.mean(temp.iloc[round,10:15]/100))\n",
    "            temp_std.append(np.std(temp.iloc[round,10:15]/100))\n",
    "\n",
    "    top10mean.append(temp_mean)\n",
    "    top10std.append(temp_std)\n",
    "\n",
    "%matplotlib qt\n",
    "\n",
    "for cuber in range(len(bestcubers)):\n",
    "    plt.subplot(2,5,cuber+1)\n",
    "    plt.scatter(top10mean[cuber],top10std[cuber])\n",
    "    plt.xlabel('Average Time (s)')\n",
    "    plt.ylabel('Standard Deviation (s)')"
   ]
  },
  {
   "cell_type": "code",
   "execution_count": 2,
   "metadata": {},
   "outputs": [
    {
     "output_type": "stream",
     "name": "stdout",
     "text": "['2018LAMD02' '2017EATO03' '2018MONT38' '2011MAUL02' '2011HANG01'\n '2019RAMA10' '2018RIYA01' '2018TAIR02' '2018GRAC01' '2015HEFF01'\n '2017SHUL03' '2019CHEN52' '2019ALCH01' '2016SONU01' '2018CRUS01'\n '2010STEV02' '2019MELN01' '2018LIXI12' '2015GAYL01' '2014ZHAN27'\n '2017KHIZ01' '2011DIRK01' '2019KAMA04' '2016HUAN35' '2017JAIN14'\n '2014HUAN07' '2009WOLF01' '2018PARK09' '2016TAKE02' '2019SHIS07'\n '2016TAIH01' '2018VALE16' '2016YILO02' '2017HERN22' '2019BERE05'\n '2019SENG03' '2014RAKS01' '2018AUBR01' '2015MART40' '2017NANC01'\n '2009KASA01' '2017CATI01' '2018JOHN09' '2016BAYA02' '2018LANZ03'\n '2018HERM07' '2018CATU01' '2017RENS02' '2010KEHR01' '2009ADLA01'\n '2018HUNG06' '2016SARM07' '2015ZHUW02' '2015KALR01' '2017PALE01'\n '2016JAYV01' '2017FATH02' '2009SMIT01' '2018MIKL02' '2017VERA03'\n '2008CHEN06' '2019MUNO03' '2017WANK05' '2018YANG76' '2010BENI02'\n '2017NAMH03' '2016LAHT01' '2019MEND01' '2016WANB02' '2018BOGN01'\n '2016MEND07' '2015WUMI01' '2016BOCK01' '2015SIAM01' '2018CHEN84'\n '2008BELL02' '2018LUDE01' '2016CHAN26' '2019GUOM02' '2014SHAS02'\n '2012TORR07' '2016DERM01' '2018GLAD05' '2013WIND01' '2016JIME02'\n '2019RUBE01' '2018HOAN05' '2014REID01' '2017PRAA01' '2017WOOD01'\n '2016LIUJ10' '2017RAMI08' '2016MAIL01' '2017MIKH01' '2017ADIT02'\n '2017GARC55' '2015WANG28' '2019NGUY04' '2016DENE01' '2016MACH01']\n"
    }
   ],
   "source": [
    "\n",
    "avgcubers = threespeedrankings['personId'][7400:7500].to_numpy()\n",
    "\n",
    "print(avgcubers) # (numpy) list of best cuber IDs\n",
    "\n",
    "# load complete 3x3 averages \n",
    "\n",
    "avg10mean = []\n",
    "avg10std = []\n",
    "\n",
    "for cuber in avgcubers:\n",
    "    temp = threespeed.loc[threespeed.personId==cuber]\n",
    "\n",
    "    temp_mean = []\n",
    "    temp_std = []\n",
    "    for round in range(temp.shape[0]):\n",
    "        if np.min(temp.iloc[round,10:15])>0:\n",
    "            temp_mean.append(np.mean(temp.iloc[round,10:15]/100))\n",
    "            temp_std.append(np.std(temp.iloc[round,10:15]/100))\n",
    "\n",
    "    avg10mean.append(temp_mean)\n",
    "    avg10std.append(temp_std)\n",
    "\n",
    "%matplotlib qt\n",
    "\n",
    "# for cuber in range(len(avgcubers)):\n",
    "#     plt.subplot(2,5,cuber+1)\n",
    "#     plt.scatter(avg10mean[cuber],avg10std[cuber])\n",
    "#     plt.xlabel('Average Time (s)')\n",
    "#     plt.ylabel('Standard Deviation (s)')"
   ]
  },
  {
   "cell_type": "code",
   "execution_count": 15,
   "metadata": {},
   "outputs": [],
   "source": [
    "# plot the mean on top of the std\n",
    "\n",
    "for cuber in range(len(avgcubers)):\n",
    "    plt.subplot(2,5,cuber+1)\n",
    "    plt.plot((avg10mean[cuber]-np.min(avg10mean[cuber]))/(np.max(avg10mean[cuber])-np.min(avg10mean[cuber])),c='black')\n",
    "    plt.plot((avg10std[cuber]-np.min(avg10std[cuber]))/(np.max(avg10std[cuber])-np.min(avg10std[cuber])),alpha=0.4,c='blue')\n",
    "    plt.xlabel('Sample (#)')\n",
    "    plt.ylabel('Normalized Values')\n",
    "    plt.legend(['mean', 'std'])\n",
    "\n",
    "plt.figure()\n",
    "for cuber in range(len(bestcubers)):\n",
    "    plt.subplot(2,5,cuber+1)\n",
    "    plt.plot((top10mean[cuber]-np.min(top10mean[cuber]))/(np.max(top10mean[cuber])-np.min(top10mean[cuber])),c='black')\n",
    "    plt.plot((top10std[cuber]-np.min(top10std[cuber]))/(np.max(top10std[cuber])-np.min(top10std[cuber])),alpha=0.4,c='blue')\n",
    "    plt.xlabel('Sample (#)')\n",
    "    plt.ylabel('Normalized Values')\n",
    "    plt.legend(['mean', 'std'])\n",
    "    plt.title(bestcubers[cuber])\n",
    ""
   ]
  },
  {
   "cell_type": "code",
   "execution_count": 4,
   "metadata": {
    "tags": [
     "outputPrepend",
     "outputPrepend",
     "outputPrepend",
     "outputPrepend",
     "outputPrepend",
     "outputPrepend",
     "outputPrepend",
     "outputPrepend",
     "outputPrepend",
     "outputPrepend",
     "outputPrepend",
     "outputPrepend",
     "outputPrepend",
     "outputPrepend",
     "outputPrepend",
     "outputPrepend",
     "outputPrepend",
     "outputPrepend",
     "outputPrepend",
     "outputPrepend",
     "outputPrepend",
     "outputPrepend",
     "outputPrepend",
     "outputPrepend",
     "outputPrepend",
     "outputPrepend",
     "outputPrepend",
     "outputPrepend",
     "outputPrepend",
     "outputPrepend",
     "outputPrepend",
     "outputPrepend",
     "outputPrepend",
     "outputPrepend",
     "outputPrepend",
     "outputPrepend",
     "outputPrepend",
     "outputPrepend",
     "outputPrepend",
     "outputPrepend",
     "outputPrepend",
     "outputPrepend",
     "outputPrepend",
     "outputPrepend",
     "outputPrepend",
     "outputPrepend",
     "outputPrepend",
     "outputPrepend",
     "outputPrepend",
     "outputPrepend",
     "outputPrepend",
     "outputPrepend",
     "outputPrepend",
     "outputPrepend",
     "outputPrepend",
     "outputPrepend",
     "outputPrepend",
     "outputPrepend",
     "outputPrepend",
     "outputPrepend",
     "outputPrepend",
     "outputPrepend",
     "outputPrepend",
     "outputPrepend",
     "outputPrepend",
     "outputPrepend",
     "outputPrepend",
     "outputPrepend",
     "outputPrepend"
    ]
   },
   "outputs": [],
   "source": [
    "threespeed_temp = threespeed.sort_values(by=['average'])\n",
    "\n",
    "\n",
    "threespeedbyavg = threespeed_temp.loc[threespeed['average']>0]\n",
    "\n",
    "allmean = []\n",
    "allstd = []\n",
    "\n",
    "for round in np.arange(0,700000,100):\n",
    "    if np.min(threespeedbyavg.iloc[round,10:15])>0:\n",
    "        allmean.append(np.mean(threespeedbyavg.iloc[round,10:15]/100))\n",
    "        allstd.append(np.std(threespeedbyavg.iloc[round,10:15]/100))\n",
    "\n",
    ""
   ]
  },
  {
   "cell_type": "code",
   "execution_count": 177,
   "metadata": {},
   "outputs": [
    {
     "output_type": "execute_result",
     "data": {
      "text/plain": "<matplotlib.legend.Legend at 0x1fb10c504f0>"
     },
     "metadata": {},
     "execution_count": 177
    }
   ],
   "source": [
    "plt.figure(figsize=(5,5))\n",
    "plt.plot(allmean,allstd,'.',alpha=0.15)\n",
    "plt.xlim(9, 100)\n",
    "plt.ylim(0, 40)\n",
    "\n",
    "import statsmodels.api as sm \n",
    "allmeanx = sm.add_constant(allmean)\n",
    "model = sm.OLS(allstd,allmeanx).fit()\n",
    "\n",
    "model.summary()\n",
    "\n",
    "model.params\n",
    "x = np.arange(4,100)\n",
    "y = x*model.params[1]+model.params[0]\n",
    "plt.plot(x,y,'orange')\n",
    "plt.xlim(5,30)\n",
    "plt.ylim(0,15)\n",
    "\n",
    "plt.xlabel('Average Time (s)')\n",
    "plt.ylabel('Standard Deviation (s)')\n",
    "plt.legend(['Average of 5', 'Regression'])\n",
    "# plt.scatter(avg10mean[0],avg10std[0],color='red',marker='.',alpha =0.55)"
   ]
  },
  {
   "cell_type": "code",
   "execution_count": 47,
   "metadata": {},
   "outputs": [
    {
     "output_type": "execute_result",
     "data": {
      "text/plain": "Ttest_indResult(statistic=3.3746857373335404, pvalue=0.0007620329988263413)"
     },
     "metadata": {},
     "execution_count": 47
    }
   ],
   "source": [
    "plt.hist(np.array(allstd[:1000])/np.array(allmean[:1000]),bins=30)\n",
    "plt.hist(np.array(top10std[5])/np.array(top10mean[5]),bins=30)\n",
    "\n",
    "\n",
    "stats.ttest_ind(np.array(top10std[5])/np.array(top10mean[5]),np.array(allstd[:1000])/np.array(allmean[:1000]))"
   ]
  },
  {
   "cell_type": "code",
   "execution_count": 5,
   "metadata": {},
   "outputs": [
    {
     "output_type": "stream",
     "name": "stdout",
     "text": "Ttest_indResult(statistic=-0.606823541430406, pvalue=0.5446632054424203)\nMean CV:  0.12673170178125606\nTop 100 CV:  0.1256631537304253\nNormal 100 CV:  0.12397222946954792\n"
    }
   ],
   "source": [
    "avg10cv=[]\n",
    "top10cv=[]\n",
    "for i in range(100):\n",
    "    avg10cv.append(np.mean(np.array(avg10std[i])/np.array(avg10mean[i])))\n",
    "    top10cv.append(np.mean(np.array(top10std[i])/np.array(top10mean[i])))\n",
    "plt.hist(avg10cv,bins=20,alpha=0.5)\n",
    "plt.hist(top10cv,bins=10, alpha=0.5)\n",
    "\n",
    "print(stats.ttest_ind(avg10cv,top10cv))\n",
    "\n",
    "meancv = np.mean(np.array(allstd)/np.array(allmean))\n",
    "print('Mean CV: ', meancv)\n",
    "print('Top 100 CV: ', np.mean(top10cv))\n",
    "print('Normal 100 CV: ', np.mean(avg10cv))"
   ]
  },
  {
   "cell_type": "code",
   "execution_count": 171,
   "metadata": {},
   "outputs": [
    {
     "output_type": "stream",
     "name": "stdout",
     "text": "KE CV:  0.10978404747367872\n"
    },
    {
     "output_type": "execute_result",
     "data": {
      "text/plain": "Ttest_indResult(statistic=3.9947533510384474, pvalue=6.90758300915074e-05)"
     },
     "metadata": {},
     "execution_count": 171
    }
   ],
   "source": [
    "# load KE data\n",
    "import random\n",
    "ke = pd.read_csv('csTimerExport_20200323_005900.csv',';')\n",
    "\n",
    "ketimes = ke['P.1'].to_numpy()\n",
    "kecv = []\n",
    "for iter in range(1000):\n",
    "    temp = random.sample(list(ketimes),5)\n",
    "    kecv.append(np.std(temp)/np.mean(temp))\n",
    "\n",
    "plt.figure(figsize=(5,5))\n",
    "plt.hist(kecv,bins=30, alpha=0.7, density=True)\n",
    "plt.hist(top10cv,bins=10, alpha=0.7, density=True)\n",
    "plt.legend(['CV19F Member','Top 100 Cubers'])\n",
    "plt.xlabel('Coefficient of Variation')\n",
    "plt.ylabel('Count (Normalized Density)')\n",
    "\n",
    "print('KE CV: ', np.mean(kecv))\n",
    "\n",
    "stats.ttest_ind(top10cv,kecv)"
   ]
  },
  {
   "cell_type": "code",
   "execution_count": 163,
   "metadata": {},
   "outputs": [
    {
     "output_type": "execute_result",
     "data": {
      "text/plain": "Ttest_indResult(statistic=-0.4580766710075526, pvalue=0.6471314782064805)"
     },
     "metadata": {},
     "execution_count": 163
    }
   ],
   "source": [
    "# feliks cv\n",
    "fazcv=[]\n",
    "for i in range(len(top10std[0])):\n",
    "    fazcv.append(np.array(top10std[0][i])/np.array(top10mean[0][i]))\n",
    "\n",
    "plt.hist(fazcv)\n",
    "plt.hist(avg10cv,bins=10, alpha=0.5, density=True)\n",
    "\n",
    "stats.ttest_ind(fazcv,avg10cv)"
   ]
  },
  {
   "cell_type": "code",
   "execution_count": 11,
   "metadata": {},
   "outputs": [
    {
     "output_type": "stream",
     "name": "stdout",
     "text": "[0.12139855008023878, 0.002939501186177712]\n"
    }
   ],
   "source": [
    "allcv=np.array(top10std[0])/np.array(top10mean[0])\n",
    "\n",
    "print([np.mean(allcv), np.var(allcv)])"
   ]
  }
 ]
}